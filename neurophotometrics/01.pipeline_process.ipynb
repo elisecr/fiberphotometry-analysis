{
 "cells": [
  {
   "cell_type": "markdown",
   "id": "f8442e50-77cf-4a16-9fa5-c3628be7acc7",
   "metadata": {
    "tags": []
   },
   "source": [
    "#  01 Photometry Signal Processing\n",
    "\n",
    "\n",
    "This goal of this signal processing module is to:\n",
    "\n",
    "1. Import photometry data and crop\n",
    "1. Deinterleave data\n",
    "1. Normalize photometry data for photobleaching and calculate dF and z-score\n",
    "1. Find Peaks in z-scored data\n",
    "1. Write out processed data and figures\n",
    "\n",
    "This module will output processed photometry data for plotting in external software, or alignment with timestamps using the alignment (02) and pooling (03) notebooks.\n",
    "\n",
    "To run each cell, either click the 'Run' button on the toolbar or hit Shift+Enter\n",
    "\n",
    "For step-by-step instructions, resources and more information on each processing step, see our [Synaptech Suite User Guide](https://static1.squarespace.com/static/60ff345fca665d50e1adc805/t/653c10e675b3ad1436896ee1/1698435302608/SynaptechSuite+User+Guide.pdf)."
   ]
  },
  {
   "cell_type": "markdown",
   "id": "65311cb4",
   "metadata": {},
   "source": [
    "## Initialize Signal Processing Pipeline"
   ]
  },
  {
   "cell_type": "code",
   "execution_count": null,
   "id": "3bee40e4-cdc5-4cb0-b034-ed79fdfdec3d",
   "metadata": {},
   "outputs": [],
   "source": [
    "from routine.oo_interface import NPMProcess\n",
    "process = NPMProcess()"
   ]
  },
  {
   "cell_type": "markdown",
   "id": "56178180-9a82-4cbd-9760-c306043bea19",
   "metadata": {
    "tags": []
   },
   "source": [
    "## Import Data and Set Parameters\n",
    "Run cell to enable data file upload. Then select the file you would like to analyze."
   ]
  },
  {
   "cell_type": "code",
   "execution_count": null,
   "id": "a844698f-751d-49a5-b169-86a160634bc1",
   "metadata": {},
   "outputs": [],
   "source": [
    "process.set_data()"
   ]
  },
  {
   "cell_type": "markdown",
   "id": "41e51765",
   "metadata": {
    "tags": []
   },
   "source": [
    " ### Specify path to write out processed data and figures"
   ]
  },
  {
   "cell_type": "code",
   "execution_count": null,
   "id": "85da8f2a-9155-4ed8-9ff8-bf2e36ea87fb",
   "metadata": {},
   "outputs": [],
   "source": [
    "process.set_paths()"
   ]
  },
  {
   "cell_type": "markdown",
   "id": "09c73538",
   "metadata": {
    "tags": []
   },
   "source": [
    "### Select ROIs to analyze\n",
    "CTRL or CMD + click to select multiple"
   ]
  },
  {
   "cell_type": "code",
   "execution_count": null,
   "id": "809d4ea7-0e26-415d-b5f6-bb59ae239473",
   "metadata": {},
   "outputs": [],
   "source": [
    "process.set_roi()"
   ]
  },
  {
   "cell_type": "markdown",
   "id": "7fdb8314",
   "metadata": {},
   "source": [
    "### Specify Region Names for ROIs\n",
    "i.e. mPFC Right and mPFC Left"
   ]
  },
  {
   "cell_type": "code",
   "execution_count": null,
   "id": "29a61f59-31f2-4842-89ae-f1e294930447",
   "metadata": {},
   "outputs": [],
   "source": [
    "process.set_roi_names()"
   ]
  },
  {
   "cell_type": "markdown",
   "id": "78c38c3c",
   "metadata": {},
   "source": [
    "### Specify the number of frames to discard at the beginning of the file\n",
    "This step helps to improve curve fitting by cropping the steepest part of the decay curve. We recommend starting with 100 frames. If you do not wish to discard any frames, please enter 0."
   ]
  },
  {
   "cell_type": "code",
   "execution_count": null,
   "id": "e7a6ed6d-6238-401a-944a-ddfdf032ce5b",
   "metadata": {},
   "outputs": [],
   "source": [
    "process.set_discard_time()"
   ]
  },
  {
   "cell_type": "markdown",
   "id": "e146207d",
   "metadata": {
    "tags": []
   },
   "source": [
    "### Select which channel to use as a reference signal\n",
    "For GCaMP recordings, we recommend choosing 415\n",
    "For neurotransmitter biosensors, we recommend consulting the literature for validated normalization methods for the specific sensor you are using."
   ]
  },
  {
   "cell_type": "code",
   "execution_count": null,
   "id": "2d1c1676-f8ac-442c-bf21-01fbc6fa9d1d",
   "metadata": {},
   "outputs": [],
   "source": [
    "process.set_baseline()"
   ]
  },
  {
   "cell_type": "markdown",
   "id": "2b74b850-9652-4d0d-ae73-b17a65d51fe0",
   "metadata": {},
   "source": [
    "## Load and Visualize Raw Data\n",
    "Select raw data file to analyze"
   ]
  },
  {
   "cell_type": "code",
   "execution_count": null,
   "id": "778c69f6-7c41-4289-9f53-bfea8e0d77bb",
   "metadata": {},
   "outputs": [],
   "source": [
    "process.load_data()"
   ]
  },
  {
   "cell_type": "markdown",
   "id": "11e05567-3a6a-4598-9272-1f2bba8b838e",
   "metadata": {},
   "source": [
    "## Correct for Photobleaching"
   ]
  },
  {
   "cell_type": "markdown",
   "id": "d892f5fd-4599-4317-a927-c233319a86fc",
   "metadata": {},
   "source": [
    "Order of Operations:\n",
    "\n",
    "1. Deinterleave data by frame flag (LED)\n",
    "1. Fit reference signal with a biexponential decay \n",
    "1. Linearly scale the fitted decay to the signal of interest using robust fit.\n",
    "1. Subtract scaled fit from raw signal of interest to yield a normalized signal (dF)\n",
    "1. z-score data\n",
    "\n",
    "For more information on dF/F values, see our [Analysis Manual](https://static1.squarespace.com/static/60ff345fca665d50e1adc805/t/653c10e675b3ad1436896ee1/1698435302608/SynaptechSuite+User+Guide.pdf)."
   ]
  },
  {
   "cell_type": "code",
   "execution_count": null,
   "id": "799be62b-18f3-49ff-b29d-955ac08822cc",
   "metadata": {},
   "outputs": [],
   "source": [
    "process.photobleach_correction()"
   ]
  },
  {
   "cell_type": "markdown",
   "id": "06236041",
   "metadata": {},
   "source": [
    "## Peak Finding"
   ]
  },
  {
   "cell_type": "markdown",
   "id": "4ed1fe52",
   "metadata": {},
   "source": [
    "### Specify Threshold for Peak Finding\n",
    "Peak finding is run on z-scored data. All peaks with a prominence above threshold will be included"
   ]
  },
  {
   "cell_type": "code",
   "execution_count": null,
   "id": "0ccee692",
   "metadata": {},
   "outputs": [],
   "source": [
    "process.set_pk_prominence()"
   ]
  },
  {
   "cell_type": "markdown",
   "id": "94ffb6d3",
   "metadata": {},
   "source": [
    "### Find Peaks and Plot"
   ]
  },
  {
   "cell_type": "code",
   "execution_count": null,
   "id": "50c9ba24",
   "metadata": {},
   "outputs": [],
   "source": [
    "process.find_peaks()"
   ]
  },
  {
   "cell_type": "markdown",
   "id": "d89504bf-5fc3-4423-a984-6d987e5d8565",
   "metadata": {
    "tags": []
   },
   "source": [
    "## Save Processed Data\n",
    "Both dF and z-scored data will be written out"
   ]
  },
  {
   "cell_type": "code",
   "execution_count": null,
   "id": "04d1ab17-d091-4a83-abfc-34362587dba8",
   "metadata": {},
   "outputs": [],
   "source": [
    "process.export_data()"
   ]
  }
 ],
 "metadata": {
  "kernelspec": {
   "display_name": "npm",
   "language": "python",
   "name": "python3"
  },
  "language_info": {
   "codemirror_mode": {
    "name": "ipython",
    "version": 3
   },
   "file_extension": ".py",
   "mimetype": "text/x-python",
   "name": "python",
   "nbconvert_exporter": "python",
   "pygments_lexer": "ipython3",
   "version": "3.12.0"
  },
  "toc": {
   "base_numbering": 1,
   "nav_menu": {},
   "number_sections": true,
   "sideBar": true,
   "skip_h1_title": false,
   "title_cell": "Table of Contents",
   "title_sidebar": "Contents",
   "toc_cell": false,
   "toc_position": {},
   "toc_section_display": true,
   "toc_window_display": true
  }
 },
 "nbformat": 4,
 "nbformat_minor": 5
}
