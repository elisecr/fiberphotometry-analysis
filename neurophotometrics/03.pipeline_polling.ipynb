{
 "cells": [
  {
   "cell_type": "markdown",
   "id": "64030a7c",
   "metadata": {},
   "source": [
    "#  03 Timestamp Pooling\n",
    "\n",
    "The goal of this module is to segment data around timestamps of interested and create peri-event plots. Both peri-event plots, and segmented traces will be written out at the end.\n",
    "\n",
    "Before running this module, you should process raw data using 01.pipeline_process and 02.pipeline_align to normalize data and align timestamps. \n",
    "\n",
    "For resources and more information on each processing step, see our [Analysis Manual](https://static1.squarespace.com/static/60ff345fca665d50e1adc805/t/645405b5e520f5323850b0fb/1683228085778/Manual-Analysis_20230503.pdf)."
   ]
  },
  {
   "cell_type": "markdown",
   "id": "2714c241",
   "metadata": {},
   "source": [
    "## Initialize Module"
   ]
  },
  {
   "cell_type": "code",
   "execution_count": null,
   "id": "550046d6",
   "metadata": {
    "scrolled": true,
    "tags": []
   },
   "outputs": [],
   "source": [
    "from routine.oo_interface import NPMPolling\n",
    "polling = NPMPolling()"
   ]
  },
  {
   "cell_type": "markdown",
   "id": "9bf046e7",
   "metadata": {},
   "source": [
    "## Select processed data and aligned timestamps\n",
    "Choose the 'master.csv' file generated and saved to the path specified in 02."
   ]
  },
  {
   "cell_type": "code",
   "execution_count": null,
   "id": "aba9beac",
   "metadata": {},
   "outputs": [],
   "source": [
    "polling.set_data()"
   ]
  },
  {
   "cell_type": "markdown",
   "id": "682d8316",
   "metadata": {},
   "source": [
    "## Select output path for figures and segmented photometry data"
   ]
  },
  {
   "cell_type": "code",
   "execution_count": null,
   "id": "c5691d47",
   "metadata": {
    "scrolled": true,
    "tags": []
   },
   "outputs": [],
   "source": [
    "polling.set_paths()"
   ]
  },
  {
   "cell_type": "markdown",
   "id": "e55cc23f",
   "metadata": {},
   "source": [
    "## Select which ROIs to include"
   ]
  },
  {
   "cell_type": "code",
   "execution_count": null,
   "id": "f0475f9e",
   "metadata": {
    "scrolled": true
   },
   "outputs": [],
   "source": [
    "polling.set_roi()"
   ]
  },
  {
   "cell_type": "markdown",
   "id": "f1e75d5c",
   "metadata": {
    "tags": []
   },
   "source": [
    "## Choose the number of frames to include on either side of the timestamps\n",
    "This number will depend on the nature of the timestamped event. "
   ]
  },
  {
   "cell_type": "code",
   "execution_count": null,
   "id": "8389a41f",
   "metadata": {},
   "outputs": [],
   "source": [
    "polling.set_evt_range()"
   ]
  },
  {
   "cell_type": "markdown",
   "id": "eebc9f95",
   "metadata": {},
   "source": [
    "## Choose minimum separation of events"
   ]
  },
  {
   "cell_type": "code",
   "execution_count": null,
   "id": "fabc1ed3",
   "metadata": {},
   "outputs": [],
   "source": [
    "polling.set_evt_sep()"
   ]
  },
  {
   "cell_type": "markdown",
   "id": "032a1275",
   "metadata": {},
   "source": [
    "## Choose minimum duration of events"
   ]
  },
  {
   "cell_type": "code",
   "execution_count": null,
   "id": "acb57475",
   "metadata": {},
   "outputs": [],
   "source": [
    "polling.set_evt_duration()"
   ]
  },
  {
   "cell_type": "markdown",
   "id": "3dc4438f",
   "metadata": {},
   "source": [
    "## Create peri-event plots"
   ]
  },
  {
   "cell_type": "code",
   "execution_count": null,
   "id": "0e09c55c",
   "metadata": {},
   "outputs": [],
   "source": [
    "polling.poll_events()"
   ]
  },
  {
   "cell_type": "code",
   "execution_count": null,
   "id": "276ba4a4",
   "metadata": {},
   "outputs": [],
   "source": [
    "polling.agg_polled_events()"
   ]
  },
  {
   "cell_type": "markdown",
   "id": "c018ec8e",
   "metadata": {},
   "source": [
    "## Export and save data"
   ]
  },
  {
   "cell_type": "code",
   "execution_count": null,
   "id": "2963f88b",
   "metadata": {},
   "outputs": [],
   "source": [
    "polling.export_data()"
   ]
  }
 ],
 "metadata": {
  "kernelspec": {
   "display_name": "Python 3 (ipykernel)",
   "language": "python",
   "name": "python3"
  },
  "language_info": {
   "codemirror_mode": {
    "name": "ipython",
    "version": 3
   },
   "file_extension": ".py",
   "mimetype": "text/x-python",
   "name": "python",
   "nbconvert_exporter": "python",
   "pygments_lexer": "ipython3",
   "version": "3.12.0"
  },
  "toc": {
   "base_numbering": 1,
   "nav_menu": {},
   "number_sections": true,
   "sideBar": true,
   "skip_h1_title": false,
   "title_cell": "Table of Contents",
   "title_sidebar": "Contents",
   "toc_cell": false,
   "toc_position": {},
   "toc_section_display": true,
   "toc_window_display": true
  }
 },
 "nbformat": 4,
 "nbformat_minor": 5
}
