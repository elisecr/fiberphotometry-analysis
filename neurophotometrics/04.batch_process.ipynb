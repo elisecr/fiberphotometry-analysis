{
 "cells": [
  {
   "cell_type": "markdown",
   "id": "f8442e50-77cf-4a16-9fa5-c3628be7acc7",
   "metadata": {
    "tags": []
   },
   "source": [
    "#  04 Batch Processing"
   ]
  },
  {
   "cell_type": "markdown",
   "id": "65311cb4",
   "metadata": {},
   "source": [
    "## Initialize Batch Processing Pipeline"
   ]
  },
  {
   "cell_type": "code",
   "execution_count": null,
   "id": "3bee40e4-cdc5-4cb0-b034-ed79fdfdec3d",
   "metadata": {},
   "outputs": [],
   "source": [
    "from routine.oo_interface import NPMBatch\n",
    "batch = NPMBatch()"
   ]
  },
  {
   "cell_type": "markdown",
   "id": "56178180-9a82-4cbd-9760-c306043bea19",
   "metadata": {
    "tags": []
   },
   "source": [
    "## Set Data Path and Parameters"
   ]
  },
  {
   "cell_type": "code",
   "execution_count": null,
   "id": "a844698f-751d-49a5-b169-86a160634bc1",
   "metadata": {},
   "outputs": [],
   "source": [
    "batch.set_data_path()"
   ]
  },
  {
   "cell_type": "code",
   "execution_count": null,
   "metadata": {},
   "outputs": [],
   "source": [
    "batch.set_paths()"
   ]
  },
  {
   "cell_type": "code",
   "execution_count": null,
   "metadata": {},
   "outputs": [],
   "source": [
    "batch.set_data_pattern()"
   ]
  },
  {
   "cell_type": "code",
   "execution_count": null,
   "metadata": {},
   "outputs": [],
   "source": [
    "batch.set_ts_pattern()"
   ]
  },
  {
   "cell_type": "code",
   "execution_count": null,
   "metadata": {},
   "outputs": [],
   "source": [
    "batch.set_discard_time()"
   ]
  },
  {
   "cell_type": "code",
   "execution_count": null,
   "id": "5149adab",
   "metadata": {},
   "outputs": [],
   "source": [
    "batch.set_pk_prominence()"
   ]
  },
  {
   "cell_type": "code",
   "execution_count": null,
   "metadata": {},
   "outputs": [],
   "source": [
    "batch.set_roi()"
   ]
  },
  {
   "cell_type": "code",
   "execution_count": null,
   "metadata": {},
   "outputs": [],
   "source": [
    "batch.set_roi_names()"
   ]
  },
  {
   "cell_type": "code",
   "execution_count": null,
   "metadata": {},
   "outputs": [],
   "source": [
    "batch.set_baseline()"
   ]
  },
  {
   "cell_type": "code",
   "execution_count": null,
   "metadata": {},
   "outputs": [],
   "source": [
    "batch.set_evt_range()"
   ]
  },
  {
   "cell_type": "code",
   "execution_count": null,
   "id": "29cbb564",
   "metadata": {},
   "outputs": [],
   "source": [
    "batch.set_evt_sep()"
   ]
  },
  {
   "cell_type": "code",
   "execution_count": null,
   "id": "8021a768",
   "metadata": {},
   "outputs": [],
   "source": [
    "batch.set_evt_duration()"
   ]
  },
  {
   "cell_type": "markdown",
   "id": "41e51765",
   "metadata": {
    "tags": []
   },
   "source": [
    "## Batch Processing"
   ]
  },
  {
   "cell_type": "code",
   "execution_count": null,
   "id": "85da8f2a-9155-4ed8-9ff8-bf2e36ea87fb",
   "metadata": {},
   "outputs": [],
   "source": [
    "batch.batch_process()"
   ]
  }
 ],
 "metadata": {
  "kernelspec": {
   "display_name": "npm",
   "language": "python",
   "name": "python3"
  },
  "language_info": {
   "codemirror_mode": {
    "name": "ipython",
    "version": 3
   },
   "file_extension": ".py",
   "mimetype": "text/x-python",
   "name": "python",
   "nbconvert_exporter": "python",
   "pygments_lexer": "ipython3",
   "version": "3.12.0"
  },
  "toc": {
   "base_numbering": 1,
   "nav_menu": {},
   "number_sections": true,
   "sideBar": true,
   "skip_h1_title": false,
   "title_cell": "Table of Contents",
   "title_sidebar": "Contents",
   "toc_cell": false,
   "toc_position": {},
   "toc_section_display": true,
   "toc_window_display": true
  }
 },
 "nbformat": 4,
 "nbformat_minor": 5
}
